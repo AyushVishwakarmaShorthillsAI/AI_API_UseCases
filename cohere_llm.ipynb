{
 "cells": [
  {
   "cell_type": "code",
   "execution_count": 1,
   "metadata": {},
   "outputs": [
    {
     "name": "stdout",
     "output_type": "stream",
     "text": [
      "Defaulting to user installation because normal site-packages is not writeable\n",
      "Requirement already satisfied: cohere in /home/shtlp_0059/.local/lib/python3.10/site-packages (5.15.0)\n",
      "Requirement already satisfied: fastavro<2.0.0,>=1.9.4 in /home/shtlp_0059/.local/lib/python3.10/site-packages (from cohere) (1.10.0)\n",
      "Requirement already satisfied: typing_extensions>=4.0.0 in /home/shtlp_0059/.local/lib/python3.10/site-packages (from cohere) (4.13.1)\n",
      "Requirement already satisfied: tokenizers<1,>=0.15 in /home/shtlp_0059/.local/lib/python3.10/site-packages (from cohere) (0.21.1)\n",
      "Requirement already satisfied: requests<3.0.0,>=2.0.0 in /home/shtlp_0059/.local/lib/python3.10/site-packages (from cohere) (2.32.3)\n",
      "Requirement already satisfied: types-requests<3.0.0,>=2.0.0 in /home/shtlp_0059/.local/lib/python3.10/site-packages (from cohere) (2.32.0.20250328)\n",
      "Requirement already satisfied: httpx-sse==0.4.0 in /home/shtlp_0059/.local/lib/python3.10/site-packages (from cohere) (0.4.0)\n",
      "Requirement already satisfied: pydantic-core<3.0.0,>=2.18.2 in /home/shtlp_0059/.local/lib/python3.10/site-packages (from cohere) (2.33.1)\n",
      "Requirement already satisfied: httpx>=0.21.2 in /home/shtlp_0059/.local/lib/python3.10/site-packages (from cohere) (0.28.1)\n",
      "Requirement already satisfied: pydantic>=1.9.2 in /home/shtlp_0059/.local/lib/python3.10/site-packages (from cohere) (2.11.3)\n",
      "Requirement already satisfied: idna in /usr/lib/python3/dist-packages (from httpx>=0.21.2->cohere) (3.3)\n",
      "Requirement already satisfied: certifi in /home/shtlp_0059/.local/lib/python3.10/site-packages (from httpx>=0.21.2->cohere) (2025.1.31)\n",
      "Requirement already satisfied: httpcore==1.* in /home/shtlp_0059/.local/lib/python3.10/site-packages (from httpx>=0.21.2->cohere) (1.0.8)\n",
      "Requirement already satisfied: anyio in /home/shtlp_0059/.local/lib/python3.10/site-packages (from httpx>=0.21.2->cohere) (4.9.0)\n",
      "Requirement already satisfied: h11<0.15,>=0.13 in /home/shtlp_0059/.local/lib/python3.10/site-packages (from httpcore==1.*->httpx>=0.21.2->cohere) (0.14.0)\n",
      "Requirement already satisfied: annotated-types>=0.6.0 in /home/shtlp_0059/.local/lib/python3.10/site-packages (from pydantic>=1.9.2->cohere) (0.7.0)\n",
      "Requirement already satisfied: typing-inspection>=0.4.0 in /home/shtlp_0059/.local/lib/python3.10/site-packages (from pydantic>=1.9.2->cohere) (0.4.0)\n",
      "Requirement already satisfied: urllib3<3,>=1.21.1 in /home/shtlp_0059/.local/lib/python3.10/site-packages (from requests<3.0.0,>=2.0.0->cohere) (2.4.0)\n",
      "Requirement already satisfied: charset-normalizer<4,>=2 in /home/shtlp_0059/.local/lib/python3.10/site-packages (from requests<3.0.0,>=2.0.0->cohere) (3.4.1)\n",
      "Requirement already satisfied: huggingface-hub<1.0,>=0.16.4 in /home/shtlp_0059/.local/lib/python3.10/site-packages (from tokenizers<1,>=0.15->cohere) (0.30.2)\n",
      "Requirement already satisfied: filelock in /home/shtlp_0059/.local/lib/python3.10/site-packages (from huggingface-hub<1.0,>=0.16.4->tokenizers<1,>=0.15->cohere) (3.18.0)\n",
      "Requirement already satisfied: packaging>=20.9 in /home/shtlp_0059/.local/lib/python3.10/site-packages (from huggingface-hub<1.0,>=0.16.4->tokenizers<1,>=0.15->cohere) (24.2)\n",
      "Requirement already satisfied: fsspec>=2023.5.0 in /home/shtlp_0059/.local/lib/python3.10/site-packages (from huggingface-hub<1.0,>=0.16.4->tokenizers<1,>=0.15->cohere) (2025.3.2)\n",
      "Requirement already satisfied: pyyaml>=5.1 in /home/shtlp_0059/.local/lib/python3.10/site-packages (from huggingface-hub<1.0,>=0.16.4->tokenizers<1,>=0.15->cohere) (6.0.2)\n",
      "Requirement already satisfied: tqdm>=4.42.1 in /home/shtlp_0059/.local/lib/python3.10/site-packages (from huggingface-hub<1.0,>=0.16.4->tokenizers<1,>=0.15->cohere) (4.67.1)\n",
      "Requirement already satisfied: exceptiongroup>=1.0.2 in /home/shtlp_0059/.local/lib/python3.10/site-packages (from anyio->httpx>=0.21.2->cohere) (1.2.2)\n",
      "Requirement already satisfied: sniffio>=1.1 in /home/shtlp_0059/.local/lib/python3.10/site-packages (from anyio->httpx>=0.21.2->cohere) (1.3.1)\n",
      "Note: you may need to restart the kernel to use updated packages.\n"
     ]
    }
   ],
   "source": [
    "%pip install cohere --upgrade\n"
   ]
  },
  {
   "cell_type": "code",
   "execution_count": 2,
   "metadata": {},
   "outputs": [
    {
     "name": "stdout",
     "output_type": "stream",
     "text": [
      "Defaulting to user installation because normal site-packages is not writeable\n",
      "Requirement already satisfied: python-dotenv in /home/shtlp_0059/.local/lib/python3.10/site-packages (1.1.0)\n",
      "Note: you may need to restart the kernel to use updated packages.\n"
     ]
    }
   ],
   "source": [
    "%pip install python-dotenv\n"
   ]
  },
  {
   "cell_type": "code",
   "execution_count": 3,
   "metadata": {},
   "outputs": [
    {
     "name": "stdout",
     "output_type": "stream",
     "text": [
      "The fetched response:\n",
      "The concept of God as energy is a perspective that bridges spiritual and scientific ideas, though it largely depends on one's philosophical, religious, or metaphysical framework. Here’s a breakdown of how this idea might be considered:\n",
      "\n",
      "### **Scientific Perspective**\n",
      "From a purely scientific standpoint, energy is a quantifiable force that exists in various forms (e.g., kinetic, potential, electromagnetic, etc.) and is governed by physical laws. While energy is pervasive and fundamental to the universe, it is not typically personified or attributed with consciousness or divine qualities. Thus, equating God with energy in a strict scientific sense would be a metaphorical or philosophical extension rather than a literal interpretation.\n",
      "\n",
      "### **Spiritual and Philosophical Perspectives**\n",
      "1. **Pantheism**: In pantheistic traditions (e.g., certain interpretations of Hinduism, Taoism, or Spinoza's philosophy), God is seen as synonymous with the universe itself, including all energy and matter. In this view, God is not a separate entity but the essence of everything, including the energy that permeates existence.\n",
      "   \n",
      "2. **New Age and Esoteric Thought**: Some New Age and esoteric teachings propose that God or a divine force is an all-encompassing energy field that connects and animates all living and non-living things. Concepts like \"universal consciousness,\" \"prana,\" or \"chi\" align with this idea.\n",
      "\n",
      "3. **Mystical Traditions**: In mysticism, God is often described as an ineffable, omnipresent force that can be experienced but not fully understood. This force could be interpreted as a form of energy that transcends physical laws.\n",
      "\n",
      "4. **Quantum Spirituality**: Some interpret quantum mechanics metaphorically to suggest that consciousness or a divine energy influences the fabric of reality. However, this remains speculative and is not supported by mainstream science.\n",
      "\n",
      "### **Religious Perspectives**\n",
      "Traditional monotheistic religions (e.g., Christianity, Islam, Judaism) typically view God as a transcendent, personal being who created the universe but is distinct from it. In these frameworks, God is not merely energy but a conscious, intentional entity. However, some theologians and mystics within these traditions have explored metaphors of God as the \"ground of being\" or the \"source of all life,\" which could be loosely associated with energy.\n",
      "\n",
      "### **Metaphorical Interpretation**\n",
      "Even if God is not literally energy, the metaphor of God as energy can be a powerful way to conceptualize divine presence, creativity, and interconnectedness. For example, describing God as \"the energy of love\" or \"the force of life\" can help convey the idea of a dynamic, sustaining power.\n",
      "\n",
      "### **Conclusion**\n",
      "Whether God can be considered as energy depends on one's worldview. Scientifically, energy is a physical phenomenon, but spiritually or philosophically, it can be a useful metaphor for understanding divine presence or the interconnectedness of all things. Ultimately, this is a deeply personal and subjective question that varies across individuals and traditions.\n"
     ]
    }
   ],
   "source": [
    "import cohere\n",
    "import os\n",
    "from dotenv import load_dotenv\n",
    "\n",
    "# Load environment variables from .env file\n",
    "load_dotenv()\n",
    "\n",
    "# Get the API key from environment variable\n",
    "api_key = os.getenv(\"COHERE_API_KEY\")\n",
    "\n",
    "# Get user input\n",
    "prompt = input(\"Enter the prompt: \")\n",
    "\n",
    "# Initialize client with API key\n",
    "co = cohere.ClientV2(api_key)\n",
    "\n",
    "# Fetch response\n",
    "response = co.chat(\n",
    "    model=\"command-a-03-2025\",\n",
    "    messages=[{\"role\": \"user\", \"content\": prompt}]\n",
    ")\n",
    "\n",
    "# Display response\n",
    "print(\"The fetched response:\")\n",
    "print(response.message.content[0].text)"
   ]
  }
 ],
 "metadata": {
  "kernelspec": {
   "display_name": "Python 3",
   "language": "python",
   "name": "python3"
  },
  "language_info": {
   "codemirror_mode": {
    "name": "ipython",
    "version": 3
   },
   "file_extension": ".py",
   "mimetype": "text/x-python",
   "name": "python",
   "nbconvert_exporter": "python",
   "pygments_lexer": "ipython3",
   "version": "3.10.12"
  }
 },
 "nbformat": 4,
 "nbformat_minor": 2
}
